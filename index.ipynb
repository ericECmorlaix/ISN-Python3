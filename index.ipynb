{
 "cells": [
  {
   "cell_type": "markdown",
   "metadata": {},
   "source": [
    "Ce document présente une série de Bloc-Notes destinés aux élèves qui suivent les enseignements de Sciences de l'Ingénieur, d'Informatique et Création Numérique, ou d'AP Informatique, de la seconde à la terminale au lycée Notre Dame du Mur de Morlaix.\n",
    "<img src=\"img/ECAM-Lycee-Notre-Dame-Du-Mur.png\" alt=\"Logo du Lycee Notre Dame Du Mur\" width=50%>"
   ]
  },
  {
   "cell_type": "markdown",
   "metadata": {},
   "source": [
    "<center><h1>Sommaire</h1></center>\n",
    "## Rapporter avec jupyter notebook\n",
    "\n",
    "L'objectif de cette partie est de vous faire découvrir le potentiel de jupyter notebook pour rédiger rapidement un compte rendu scientifique interactif publiable sur le Web.\n",
    "\n",
    "1. [Introduction](Introduction-Le_BN_pour_explorer.ipynb) - Un bloc-note pour explorer les fonctionnalités de jupyter notebook\n",
    "1. [Markdown](MarkDown-Le_BN_pour_rapporter.ipynb) - Un bloc-note pour découvrir l'écriture d'un document Web en Markdown dans un jupyter notebook\n",
    "1. [Arithmétique](Arithmetique-Le_BN_pour_calculer.ipynb) - Un bloc-note pour faire faire des calculs mathématiques en Python dans un jupyter notebook\n",
    "1. [HTML](HTML-Le_BN_pour_multimedier.ipynb) - Un bloc-note pour créer un document Web multimédia en HTML dans un jupyter notebook\n",
    "1. [LaTeX](LaTeX-Le_BN_pour_formuler.ipynb) - Un bloc-note pour enrichir un document Web de formules en $\\LaTeX{}$ dans un jupyter notebook\n",
    "1. _**(En Construction )**_ [Python](Python-Le_BN_pour_programmer.ipynb) - Un bloc-note pour programmer des modèles scientifiques dans un jupyter notebook"
   ]
  },
  {
   "cell_type": "markdown",
   "metadata": {},
   "source": [
    "<img src=\"img/ECAM-Logo.png\" alt=\"Logo de l'ECA.M\" width=50%>"
   ]
  },
  {
   "cell_type": "markdown",
   "metadata": {
    "collapsed": true
   },
   "source": [
    "<a rel=\"license\" href=\"http://creativecommons.org/licenses/by-sa/4.0/\"><img alt=\"Licence Creative Commons\" style=\"border-width:0\" src=\"https://i.creativecommons.org/l/by-sa/4.0/88x31.png\" /></a><br />Ce document est mis à disposition selon les termes de la <a rel=\"license\" href=\"http://creativecommons.org/licenses/by-sa/4.0/\">Licence Creative Commons Attribution -  Partage dans les Mêmes Conditions 4.0 International</a>.\n",
    "\n",
    "Pour toute question, suggestion ou commentaire : <a href=\"mailto:eric.madec@ecmorlaix.fr\">eric.madec@ecmorlaix.fr</a>"
   ]
  }
 ],
 "metadata": {
  "kernelspec": {
   "display_name": "Python 3",
   "language": "python",
   "name": "python3"
  },
  "language_info": {
   "codemirror_mode": {
    "name": "ipython",
    "version": 3
   },
   "file_extension": ".py",
   "mimetype": "text/x-python",
   "name": "python",
   "nbconvert_exporter": "python",
   "pygments_lexer": "ipython3",
   "version": "3.6.1"
  }
 },
 "nbformat": 4,
 "nbformat_minor": 2
}
